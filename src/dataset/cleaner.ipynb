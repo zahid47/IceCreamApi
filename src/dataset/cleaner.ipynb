{
 "cells": [
  {
   "cell_type": "code",
   "execution_count": 359,
   "metadata": {},
   "outputs": [],
   "source": [
    "# pip install pandas\n",
    "import pandas as pd"
   ]
  },
  {
   "cell_type": "code",
   "execution_count": 360,
   "metadata": {},
   "outputs": [],
   "source": [
    "df = pd.read_csv(\"raw.csv\")\n",
    "df = df.drop(columns=[\"key\", \"rating_count\"])"
   ]
  },
  {
   "cell_type": "code",
   "execution_count": 361,
   "metadata": {},
   "outputs": [],
   "source": [
    "# remove parentheses and everything inside them from a string and convert it to list\n",
    "# very hacky solution lol, no mom! dont be proud!\n",
    "def clearIngredients(ingredients: str) -> list:\n",
    "    newIngredients = \"\"\n",
    "    insideParentheses = False\n",
    "\n",
    "    for char in ingredients:\n",
    "        if char == \"(\":\n",
    "            insideParentheses = True\n",
    "\n",
    "        if insideParentheses:\n",
    "            if char == \")\":\n",
    "                insideParentheses = False\n",
    "\n",
    "        if not insideParentheses:\n",
    "            if char != \")\":\n",
    "                newIngredients += char\n",
    "\n",
    "    newIngredients = newIngredients.split(\",\")\n",
    "\n",
    "    # removing whitespace after every comma\n",
    "    for index in range(len(newIngredients)):\n",
    "        newIngredients[index] = newIngredients[index].strip()\n",
    "\n",
    "    return newIngredients\n"
   ]
  },
  {
   "cell_type": "code",
   "execution_count": 362,
   "metadata": {},
   "outputs": [],
   "source": [
    "df[\"ingredients\"] = df[\"ingredients\"].apply(clearIngredients)"
   ]
  },
  {
   "cell_type": "code",
   "execution_count": 363,
   "metadata": {},
   "outputs": [],
   "source": [
    "with open('clean.json', 'w', encoding='utf-8') as file:\n",
    "    df.to_json(file, force_ascii=False, orient=\"table\")"
   ]
  }
 ],
 "metadata": {
  "interpreter": {
   "hash": "26de051ba29f2982a8de78e945f0abaf191376122a1563185a90213a26c5da77"
  },
  "kernelspec": {
   "display_name": "Python 3.10.1 64-bit",
   "language": "python",
   "name": "python3"
  },
  "language_info": {
   "codemirror_mode": {
    "name": "ipython",
    "version": 3
   },
   "file_extension": ".py",
   "mimetype": "text/x-python",
   "name": "python",
   "nbconvert_exporter": "python",
   "pygments_lexer": "ipython3",
   "version": "3.10.1"
  },
  "orig_nbformat": 4
 },
 "nbformat": 4,
 "nbformat_minor": 2
}
